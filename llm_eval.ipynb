{
 "cells": [
  {
   "cell_type": "code",
   "execution_count": null,
   "metadata": {},
   "outputs": [],
   "source": [
    "import openai\n",
    "\n",
    "openai.api_key = \"your-api-key\"  # Replace with your key\n",
    "\n",
    "def estimate_translation_quality(source, translation, model=\"gpt-4o\"):\n",
    "    prompt = f\"\"\"\n",
    "You are a professional linguist. Assess the quality of the translation below.\n",
    "\n",
    "SOURCE:\n",
    "{source}\n",
    "\n",
    "TRANSLATION:\n",
    "{translation}\n",
    "\n",
    "Rate the translation from 1 to 100 based on semantic accuracy, fluency, and preservation of structure.\n",
    "Respond only with a number.\n",
    "\"\"\"\n",
    "    response = openai.ChatCompletion.create(\n",
    "        model=model,\n",
    "        messages=[\n",
    "            {\"role\": \"system\", \"content\": \"You are an expert translation evaluator.\"},\n",
    "            {\"role\": \"user\", \"content\": prompt}\n",
    "        ],\n",
    "        temperature=0.0\n",
    "    )\n",
    "\n",
    "    score = response[\"choices\"][0][\"message\"][\"content\"].strip()\n",
    "    return float(score)\n",
    "\n",
    "# Example usage\n",
    "source = \"The quick brown fox jumps over the lazy dog.\"\n",
    "translation = \"Швидка руда лисиця стрибає через ледачого пса.\"\n",
    "score = estimate_translation_quality(source, translation)\n",
    "print(f\"Estimated translation quality score: {score}\")"
   ]
  },
  {
   "cell_type": "code",
   "execution_count": 10,
   "metadata": {},
   "outputs": [],
   "source": [
    "import os\n",
    "from openai import OpenAI\n",
    "from pydantic import BaseModel\n",
    "\n",
    "\n",
    "class Step(BaseModel):\n",
    "    explanation: str\n",
    "    output: str\n",
    "\n",
    "client = OpenAI(\n",
    "    # This is the default and can be omitted\n",
    "    api_key=\"\",\n",
    ")\n",
    "\n",
    "source = \"The quick brown fox jumps over the lazy dog.\"\n",
    "translation = \"Швидка руда лисиця стрибає через ледачого пса.\"\n",
    "\n",
    "prompt = f\"\"\"\n",
    "    You are a professional linguist. Assess the quality of the translation below.\n",
    "\n",
    "    SOURCE:\n",
    "    {source}\n",
    "\n",
    "    TRANSLATION:\n",
    "    {translation}\n",
    "\n",
    "    Rate the translation from 1 to 100 based on semantic accuracy, fluency, and preservation of structure.\n",
    "    Respond only with a number.\n",
    "\"\"\"\n",
    "\n",
    "class Rating(BaseModel):\n",
    "    score: float\n",
    "\n",
    "\n",
    "response = client.responses.parse(\n",
    "    model=\"gpt-4o\",\n",
    "    input=[\n",
    "        {\n",
    "            \"role\": \"system\",\n",
    "            \"content\": \"You are an expert translation evaluator.\",\n",
    "        },\n",
    "        {\"role\": \"user\", \"content\": prompt},\n",
    "    ],\n",
    "    text_format=Rating,\n",
    ")\n",
    "\n",
    "nmt_score = response.output_parsed\n",
    "\n",
    "# response = client.responses.create(\n",
    "#     model=\"gpt-4o\",\n",
    "#     instructions=\"You are an expert translation evaluator.\",\n",
    "#     input=prompt,\n",
    "#     response_format=\"json\"\n",
    "# )\n",
    "\n",
    "# print(response.output_text)"
   ]
  },
  {
   "cell_type": "code",
   "execution_count": 11,
   "metadata": {},
   "outputs": [
    {
     "data": {
      "text/plain": [
       "Rating(score=95.0)"
      ]
     },
     "execution_count": 11,
     "metadata": {},
     "output_type": "execute_result"
    }
   ],
   "source": [
    "nmt_score"
   ]
  }
 ],
 "metadata": {
  "kernelspec": {
   "display_name": "pytorch",
   "language": "python",
   "name": "python3"
  },
  "language_info": {
   "codemirror_mode": {
    "name": "ipython",
    "version": 3
   },
   "file_extension": ".py",
   "mimetype": "text/x-python",
   "name": "python",
   "nbconvert_exporter": "python",
   "pygments_lexer": "ipython3",
   "version": "3.12.10"
  }
 },
 "nbformat": 4,
 "nbformat_minor": 2
}
